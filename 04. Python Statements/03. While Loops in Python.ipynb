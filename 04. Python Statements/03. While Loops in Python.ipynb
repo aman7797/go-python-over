{
 "cells": [
  {
   "cell_type": "markdown",
   "metadata": {},
   "source": [
    "# while loops"
   ]
  },
  {
   "cell_type": "code",
   "execution_count": 7,
   "metadata": {},
   "outputs": [
    {
     "name": "stdout",
     "output_type": "stream",
     "text": [
      "The current value of x :- 0\n",
      "The current value of x :- 1\n",
      "The current value of x :- 2\n",
      "The current value of x :- 3\n",
      "The current value of x :- 4\n",
      "5 is not less than 5\n"
     ]
    }
   ],
   "source": [
    "x= 0\n",
    "\n",
    "while x<5:\n",
    "    print(f'The current value of x :- {x}')\n",
    "    x += 1\n",
    "else:\n",
    "    print(f'{x} is not less than 5')"
   ]
  },
  {
   "cell_type": "code",
   "execution_count": null,
   "metadata": {},
   "outputs": [],
   "source": []
  }
 ],
 "metadata": {
  "kernelspec": {
   "display_name": "Python 3",
   "language": "python",
   "name": "python3"
  },
  "language_info": {
   "codemirror_mode": {
    "name": "ipython",
    "version": 3
   },
   "file_extension": ".py",
   "mimetype": "text/x-python",
   "name": "python",
   "nbconvert_exporter": "python",
   "pygments_lexer": "ipython3",
   "version": "3.7.3"
  }
 },
 "nbformat": 4,
 "nbformat_minor": 2
}
